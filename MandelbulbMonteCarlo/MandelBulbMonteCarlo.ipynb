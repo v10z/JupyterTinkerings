{
 "cells": [
  {
   "cell_type": "code",
   "execution_count": 1,
   "metadata": {},
   "outputs": [],
   "source": [
    "import math\n",
    "import numpy\n",
    "from pyevtk.hl import pointsToVTK\n",
    "import numba"
   ]
  },
  {
   "cell_type": "code",
   "execution_count": 2,
   "metadata": {},
   "outputs": [],
   "source": [
    "@numba.njit(parallel=True, fastmath=True)\n",
    "def generate_point_cloud(m_n_points, m_range):\n",
    "    return m_range*numpy.random.rand(m_n_points,3);"
   ]
  },
  {
   "cell_type": "code",
   "execution_count": 3,
   "metadata": {},
   "outputs": [],
   "source": [
    "def write_to_file(m_n_points, m_points, m_iter, m_range, m_t):\n",
    "    r = check_if_below(m_n_points, m_points, m_iter, m_range);\n",
    "    x, y, z = numpy.array(m_points[:,0]), numpy.array(m_points[:,1]), numpy.array(m_points[:,2]);    \n",
    "    pointsToVTK(\"./results/points_\"+str(m_t), x, y, z, data={\"thres\": r});"
   ]
  },
  {
   "cell_type": "code",
   "execution_count": 4,
   "metadata": {},
   "outputs": [],
   "source": [
    "@numba.njit(parallel=True, fastmath=True)\n",
    "def check_if_below(m_n_points, m_points, m_iter, m_range):\n",
    "    m_r = numpy.zeros(m_n_points);\n",
    "    m_color = numpy.zeros(m_n_points);\n",
    "    for i in range(m_n_points):\n",
    "        x_iter = 0.;\n",
    "        y_iter = 0.;\n",
    "        z_iter = 0.;\n",
    "        radius = 0.;\n",
    "        for itr in range(20):            \n",
    "            if radius < 1.:\n",
    "                radius = math.sqrt(x_iter**2+y_iter**2+z_iter**2);\n",
    "                theta = math.atan2(math.sqrt(x_iter**2+y_iter**2), z_iter);\n",
    "                phi = math.atan2(y_iter, x_iter);\n",
    "                x_iter = (radius**m_iter)*math.sin(m_iter*theta)*math.cos(m_iter*phi)+m_points[i][0];\n",
    "                y_iter = (radius**m_iter)*math.sin(m_iter*theta)*math.sin(m_iter*phi)+m_points[i][1];\n",
    "                z_iter = (radius**m_iter)*math.cos(m_iter*theta)+m_points[i][2];                \n",
    "                m_r[i] = radius;\n",
    "            else: \n",
    "                m_r[i] = -1;\n",
    "    return m_r;"
   ]
  },
  {
   "cell_type": "code",
   "execution_count": 5,
   "metadata": {},
   "outputs": [],
   "source": [
    "n_points = 5000000;\n",
    "iteration_max = 20.;\n",
    "L = 1.05;\n",
    "point_cloud = generate_point_cloud(n_points, L);\n",
    "t_max = 300;\n",
    "for t in range(t_max):\n",
    "    power_t = t/t_max*iteration_max;\n",
    "    write_to_file(n_points, point_cloud, power_t, L, t);"
   ]
  }
 ],
 "metadata": {
  "language_info": {
   "codemirror_mode": {
    "name": "ipython",
    "version": 3
   },
   "file_extension": ".py",
   "mimetype": "text/x-python",
   "name": "python",
   "nbconvert_exporter": "python",
   "pygments_lexer": "ipython3",
   "version": "3.8.3-final"
  },
  "orig_nbformat": 2,
  "kernelspec": {
   "name": "python38364bitcppdevenvcondafa36e60da89e48858862b9a54e3c1a83",
   "display_name": "Python 3.8.3 64-bit ('cppDevEnv': conda)"
  }
 },
 "nbformat": 4,
 "nbformat_minor": 2
}