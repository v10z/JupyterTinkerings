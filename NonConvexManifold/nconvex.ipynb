{
 "cells": [
  {
   "cell_type": "code",
   "execution_count": 1,
   "metadata": {},
   "outputs": [],
   "source": [
    "import numpy\n",
    "import scipy\n",
    "import math\n",
    "import numba\n",
    "import csv\n",
    "from pyevtk.hl import gridToVTK\n",
    "from pyevtk.hl import pointsToVTK\n",
    "import random"
   ]
  },
  {
   "cell_type": "code",
   "execution_count": 2,
   "metadata": {},
   "outputs": [],
   "source": [
    "N_x = 1501; \n",
    "N_y = 1501;\n",
    "N_points = 400;\n",
    "manifold = numpy.zeros((N_x,N_y,1));\n",
    "points = numpy.zeros((N_points,3));\n",
    "\n",
    "x_0=-2;\n",
    "y_0=-2;\n",
    "x_l=2;\n",
    "y_l=2;\n",
    "delta_t = 1;\n",
    "delta_x = (x_l-x_0)/(N_x-1);\n",
    "delta_y = (y_l-y_0)/(N_y-1);\n",
    "t = 0;\n",
    "surface_tilt = 1E5;\n",
    "t_max = 3000;\n",
    "t_max_surface = 450;\n",
    "damping_rate = 1;\n",
    "mu= 0;\n",
    "sigma = 0.03;"
   ]
  },
  {
   "cell_type": "code",
   "execution_count": 3,
   "metadata": {},
   "outputs": [],
   "source": [
    "def init_points(m_points):\n",
    "    m_points[:,0]=0.5;\n",
    "    m_points[:,0]=eval_manifold(0.5,0,0);\n",
    "    return m_points;"
   ]
  },
  {
   "cell_type": "code",
   "execution_count": 4,
   "metadata": {},
   "outputs": [],
   "source": [
    "def write_vtk_surf(m_manifold,m_t):\n",
    "    m_manifold[:,2]*=50;\n",
    "    x = x_0+numpy.linspace(0, (N_x-1)*delta_x, N_x);\n",
    "    y = y_0+numpy.linspace(0, (N_y-1)*delta_x, N_y);\n",
    "    z = numpy.linspace(0, delta_x, 1);\n",
    "    gridToVTK(\"./results/surface_\"+str(m_t), x, y, z, pointData = {\"manifold\":m_manifold});"
   ]
  },
  {
   "cell_type": "code",
   "execution_count": 5,
   "metadata": {},
   "outputs": [],
   "source": [
    "# a simple file writing tool for visualisation - vtk is recommended instead\n",
    "def write_points(t_, samplerate_, u_):\n",
    "    if (t_ % samplerate_ == 0):   \n",
    "        with open('./results/points_'+str(t_)+'.csv', 'w', newline='') as csvfile:\n",
    "            fieldnames = ['x','y','z']\n",
    "            writer = csv.DictWriter(csvfile, fieldnames=fieldnames)\n",
    "            writer.writeheader() \n",
    "            for i_ in range(N_points): \n",
    "                writer.writerow({'x': str(u_[i_,0]), 'y': str(u_[i_,1]), 'z': str(50.*u_[i_,2])})"
   ]
  },
  {
   "cell_type": "code",
   "execution_count": 6,
   "metadata": {},
   "outputs": [],
   "source": [
    "@numba.njit(parallel=True, fastmath=True)\n",
    "def eval_manifold(m_x, m_y, m_t):\n",
    "    a = [-0.007,-0.009,0.018,0.0261,5];\n",
    "    b = [1.4282,-0.185,0.8066];\n",
    "    c = [185,111,74];\n",
    "    e = [((c[0]*b[0] - c[1]*b[1])*m_x**2 + (c[0]*b[1] - c[1]*b[0])*m_y**2)/(2*(c[0]**2 - c[1]**2)),((c[0]*b[1] - c[1]*b[0])*m_x**2 + (c[0]*b[0] - c[0]*b[0])*m_y**2)/(2*(c[0]**2 - c[1]**2)),(b[2]*m_x*m_y)/c[2]];\n",
    "    return m_t/surface_tilt*m_x+a[0]/2*(m_x**2 + m_y**2) + a[1]/4*(m_x**4 + m_y**4) + a[2]/2*(m_x**2*m_y**2)+ a[3]/6*(m_x**6 + m_y**6) + a[4]/4*(m_x**4*m_y**4)-(b[0]/2)*(e[0]*m_x**2 + e[1]*m_y**2) - b[1]/2*(e[0]*m_y**2 + e[1]*m_x**2) + 2*b[2]*(e[2])*m_x*m_y;"
   ]
  },
  {
   "cell_type": "code",
   "execution_count": 7,
   "metadata": {},
   "outputs": [],
   "source": [
    "@numba.njit(parallel=True, fastmath=True)\n",
    "def calc_manifold(m_manifold,m_t):\n",
    "    for i in range(N_x):\n",
    "        for j in range(N_y):\n",
    "            x = x_0+delta_x*i;\n",
    "            y = y_0+delta_x*j;\n",
    "            m_manifold[i,j]=eval_manifold(x,y,m_t);\n",
    "    return m_manifold;"
   ]
  },
  {
   "cell_type": "code",
   "execution_count": 8,
   "metadata": {},
   "outputs": [],
   "source": [
    "@numba.njit(parallel=True, fastmath=True)\n",
    "def update_points(m_points,m_t):\n",
    "    for i in range(N_points): \n",
    "        a = [-0.007,-0.009,0.018,0.0261,5];\n",
    "        b = [1.4282,-0.185,0.8066];\n",
    "        c = [185,111,74];\n",
    "        m_x = m_points[i][0];\n",
    "        m_y = m_points[i][1];\n",
    "        e = [((c[0]*b[0] - c[1]*b[1])*m_x**2 + (c[0]*b[1] - c[1]*b[0])*m_y**2)/(2*(c[0]**2 - c[1]**2)),((c[0]*b[1] - c[1]*b[0])*m_x**2 + (c[0]*b[0] - c[0]*b[0])*m_y**2)/(2*(c[0]**2 - c[1]**2)),(b[2]*m_x*m_y)/c[2]];        \n",
    "        update_x = m_t/surface_tilt+a[0]*(m_x) + a[1]*(m_x**3) + a[2]*(m_x*m_y**2)+ a[3]*(m_x**5) + a[4]*(m_x**3*m_y**4)-b[0]*(e[0]*m_x) - b[1]*(e[1]*m_x) + 2*b[2]*(e[2])*m_y;\n",
    "        update_y = a[0] *(m_y) + a[1]*(m_y**3) + a[2]*(m_x**2*m_y)+ a[3]*(m_y**5) + a[4]*(m_x**4*m_y**3)-(b[0])*(e[1]*m_y) - b[1]*(e[0]*m_y) + 2*b[2]*(e[2])*m_x;\n",
    "        \n",
    "        sx = numpy.random.normal(mu, sigma);\n",
    "        sy = numpy.random.normal(mu, sigma);\n",
    "        m_points[i][0] -= damping_rate/delta_t*(update_x+sx);\n",
    "        m_points[i][1] -= damping_rate/delta_t*(update_y+sy);        \n",
    "        m_points[i][2] = eval_manifold(m_points[i][0],m_points[i][1],m_t);\n",
    "    return m_points;"
   ]
  },
  {
   "cell_type": "code",
   "execution_count": 9,
   "metadata": {},
   "outputs": [],
   "source": [
    "points = init_points(points);\n",
    "while (t<t_max):\n",
    "    if (t<t_max_surface):\n",
    "        calc_manifold(manifold,t);    \n",
    "        write_vtk_surf(manifold,t);\n",
    "        update_points(points,t);\n",
    "    else:\n",
    "        update_points(points,t_max_surface);\n",
    "    write_points(t,1,points)\n",
    "    t+=1;"
   ]
  }
 ],
 "metadata": {
  "language_info": {
   "codemirror_mode": {
    "name": "ipython",
    "version": 3
   },
   "file_extension": ".py",
   "mimetype": "text/x-python",
   "name": "python",
   "nbconvert_exporter": "python",
   "pygments_lexer": "ipython3",
   "version": "3.8.3-final"
  },
  "orig_nbformat": 2,
  "kernelspec": {
   "name": "python38364bitcppdevenvcondafa36e60da89e48858862b9a54e3c1a83",
   "display_name": "Python 3.8.3 64-bit ('cppDevEnv': conda)"
  }
 },
 "nbformat": 4,
 "nbformat_minor": 2
}